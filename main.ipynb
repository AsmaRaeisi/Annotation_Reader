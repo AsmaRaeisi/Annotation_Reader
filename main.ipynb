{
 "cells": [
  {
   "cell_type": "code",
   "execution_count": 42,
   "metadata": {},
   "outputs": [],
   "source": [
    "#!pip install opencv-python\n"
   ]
  },
  {
   "cell_type": "code",
   "execution_count": 2,
   "metadata": {},
   "outputs": [
    {
     "data": {
      "text/plain": [
       "True"
      ]
     },
     "execution_count": 2,
     "metadata": {},
     "output_type": "execute_result"
    }
   ],
   "source": [
    "import json\n",
    "import cv2\n",
    "import numpy as np\n",
    "\n",
    "json_file_path = \"/PhD/github/Annotation_Reader/0AI1K9XAZB.json\"\n",
    "\n",
    "with open(json_file_path, 'r') as json_file:\n",
    "    annotation_data = json.load(json_file)\n",
    "\n",
    "# Create an empty image\n",
    "image = np.zeros((annotation_data[\"imageHeight\"], annotation_data[\"imageWidth\"], 3), dtype=np.uint8)\n",
    "\n",
    "# Define colors for labels (you can customize this)\n",
    "label_colors = {\n",
    "    \"Tote\": (0, 0, 255),  # Red for Tote\n",
    "    \"Object\": (0, 255, 0),  # Green for Object\n",
    "}\n",
    "\n",
    "# Iterate through shapes in the annotation data\n",
    "for shape in annotation_data[\"shapes\"]:\n",
    "    label = shape[\"label\"]\n",
    "    points = np.array(shape[\"points\"], dtype=np.int32)\n",
    "    points = points.reshape((-1, 1, 2))\n",
    "    color = label_colors.get(label, (0, 0, 0))  # Default to black if label not found in colors\n",
    "\n",
    "    # Draw the bounding polygon on the image\n",
    "    cv2.polylines(image, [points], isClosed=True, color=color, thickness=2)\n",
    "\n",
    "# Save the resulting image\n",
    "cv2.imwrite('output_image.jpg', image)\n"
   ]
  }
 ],
 "metadata": {
  "kernelspec": {
   "display_name": "Python 3",
   "language": "python",
   "name": "python3"
  },
  "language_info": {
   "codemirror_mode": {
    "name": "ipython",
    "version": 3
   },
   "file_extension": ".py",
   "mimetype": "text/x-python",
   "name": "python",
   "nbconvert_exporter": "python",
   "pygments_lexer": "ipython3",
   "version": "3.10.12"
  },
  "orig_nbformat": 4
 },
 "nbformat": 4,
 "nbformat_minor": 2
}
